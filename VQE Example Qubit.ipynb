{
 "cells": [
  {
   "cell_type": "code",
   "execution_count": 1,
   "metadata": {},
   "outputs": [],
   "source": [
    "from qiskit import Aer, execute\n",
    "from qiskit import QuantumCircuit, ClassicalRegister, QuantumRegister\n",
    "from qiskit.aqua.components.optimizers import COBYLA\n",
    "from qiskit import Aer, execute\n",
    "import numpy as np\n",
    "backend = Aer.get_backend(\"qasm_simulator\")\n",
    "NUM_SHOTS = 10000\n",
    "np.random.seed(199999)"
   ]
  },
  {
   "cell_type": "code",
   "execution_count": 2,
   "metadata": {},
   "outputs": [],
   "source": [
    "target_distr = np.random.rand(2)\n",
    "# We now convert the random vector into a valid probability vector\n",
    "target_distr /= sum(target_distr)"
   ]
  },
  {
   "cell_type": "code",
   "execution_count": 3,
   "metadata": {},
   "outputs": [
    {
     "data": {
      "text/plain": [
       "array([0.55730187, 0.44269813])"
      ]
     },
     "execution_count": 3,
     "metadata": {},
     "output_type": "execute_result"
    }
   ],
   "source": [
    "target_distr"
   ]
  },
  {
   "cell_type": "code",
   "execution_count": 4,
   "metadata": {},
   "outputs": [],
   "source": [
    "\n",
    "def get_var_form(params):\n",
    "    qr = QuantumRegister(1, name=\"q\")\n",
    "    cr = ClassicalRegister(1, name='c')\n",
    "    qc = QuantumCircuit(qr, cr)\n",
    "    qc.u3(params[0], params[1], params[2], qr[0])\n",
    "    qc.measure(qr, cr[0])\n",
    "    return qc"
   ]
  },
  {
   "cell_type": "code",
   "execution_count": 5,
   "metadata": {},
   "outputs": [],
   "source": [
    "def get_probability_distribution(counts):\n",
    "    output_distr = [v / NUM_SHOTS for v in counts.values()]\n",
    "    if len(output_distr) == 1:\n",
    "        output_distr.append(0)\n",
    "    return output_distr\n",
    "\n",
    "def objective_function(params):\n",
    "    # Obtain a quantum circuit instance from the paramters\n",
    "    qc = get_var_form(params)\n",
    "    # Execute the quantum circuit to obtain the probability distribution associated with the current parameters\n",
    "    result = execute(qc, backend, shots=NUM_SHOTS).result()\n",
    "    # Obtain the counts for each measured state, and convert those counts into a probability vector\n",
    "    output_distr = get_probability_distribution(result.get_counts(qc))\n",
    "    # Calculate the cost as the distance between the output distribution and the target distribution\n",
    "    cost = sum([np.abs(output_distr[i] - target_distr[i]) for i in range(2)])\n",
    "    return cost\n"
   ]
  },
  {
   "cell_type": "code",
   "execution_count": 6,
   "metadata": {},
   "outputs": [
    {
     "name": "stdout",
     "output_type": "stream",
     "text": [
      "Target Distribution: [0.55730187 0.44269813]\n",
      "Obtained Distribution: [0.5483, 0.4517]\n",
      "Output Error (Manhattan Distance): 0.022803731882912293\n",
      "Parameters Found: [1.47409606 1.80183461 0.36315499]\n"
     ]
    }
   ],
   "source": [
    "# Initialize the COBYLA optimizer\n",
    "optimizer = COBYLA(maxiter=100000, tol=0.00001)\n",
    "\n",
    "# Create the initial parameters (noting that our single qubit variational form has 3 parameters)\n",
    "params = np.random.rand(3)\n",
    "ret = optimizer.optimize(num_vars=3, objective_function=objective_function, initial_point=params)\n",
    "\n",
    "# Obtain the output distribution using the final parameters\n",
    "qc = get_var_form(ret[0])\n",
    "counts = execute(qc, backend, shots=NUM_SHOTS).result().get_counts(qc)\n",
    "output_distr = get_probability_distribution(counts)\n",
    "\n",
    "print(\"Target Distribution:\", target_distr)\n",
    "print(\"Obtained Distribution:\", output_distr)\n",
    "print(\"Output Error (Manhattan Distance):\", ret[1])\n",
    "print(\"Parameters Found:\", ret[0])"
   ]
  },
  {
   "cell_type": "code",
   "execution_count": 9,
   "metadata": {},
   "outputs": [
    {
     "name": "stdout",
     "output_type": "stream",
     "text": [
      "=============Linear Entanglement:=============\n",
      "        ┌───────────┐┌───────┐ ░                               ░ ┌───────────┐┌───────┐ ░ \n",
      "q_0: |0>┤ U3(0,0,0) ├┤ U1(0) ├─░───────────────■───────────────░─┤ U3(0,0,0) ├┤ U1(0) ├─░─\n",
      "        ├───────────┤├───────┤ ░ ┌──────────┐┌─┴─┐┌──────────┐ ░ ├───────────┤├───────┤ ░ \n",
      "q_1: |0>┤ U3(0,0,0) ├┤ U1(0) ├─░─┤ U2(0,pi) ├┤ X ├┤ U2(0,pi) ├─░─┤ U3(0,0,0) ├┤ U1(0) ├─░─\n",
      "        └───────────┘└───────┘ ░ └──────────┘└───┘└──────────┘ ░ └───────────┘└───────┘ ░ \n",
      "\n",
      "=============Full Entanglement:=============\n",
      "        ┌───────────┐┌───────┐ ░                               ░ ┌───────────┐┌───────┐ ░ \n",
      "q_0: |0>┤ U3(0,0,0) ├┤ U1(0) ├─░───────────────■───────────────░─┤ U3(0,0,0) ├┤ U1(0) ├─░─\n",
      "        ├───────────┤├───────┤ ░ ┌──────────┐┌─┴─┐┌──────────┐ ░ ├───────────┤├───────┤ ░ \n",
      "q_1: |0>┤ U3(0,0,0) ├┤ U1(0) ├─░─┤ U2(0,pi) ├┤ X ├┤ U2(0,pi) ├─░─┤ U3(0,0,0) ├┤ U1(0) ├─░─\n",
      "        └───────────┘└───────┘ ░ └──────────┘└───┘└──────────┘ ░ └───────────┘└───────┘ ░ \n",
      "\n"
     ]
    },
    {
     "name": "stderr",
     "output_type": "stream",
     "text": [
      "/Users/brett/anaconda3/lib/python3.7/site-packages/qiskit/circuit/quantumcircuit.py:861: DeprecationWarning: The parameter \"line_length\" is being replaced by \"fold\"\n",
      "  ax=ax)\n",
      "/Users/brett/anaconda3/lib/python3.7/site-packages/qiskit/circuit/quantumcircuit.py:861: DeprecationWarning: The parameter \"line_length\" is being replaced by \"fold\"\n",
      "  ax=ax)\n"
     ]
    }
   ],
   "source": [
    "from qiskit.aqua.components.variational_forms import RYRZ\n",
    "entanglements = [\"linear\", \"full\"]\n",
    "for entanglement in entanglements:\n",
    "    form = RYRZ(num_qubits=2, depth=1, entanglement=entanglement)\n",
    "    if entanglement == \"linear\":\n",
    "        print(\"=============Linear Entanglement:=============\")\n",
    "    else:\n",
    "        print(\"=============Full Entanglement:=============\")\n",
    "    # We initialize all parameters to 0 for this demonstration\n",
    "    print(form.construct_circuit([0] * form.num_parameters).draw(line_length=100))\n",
    "    print()"
   ]
  },
  {
   "cell_type": "code",
   "execution_count": null,
   "metadata": {},
   "outputs": [],
   "source": []
  }
 ],
 "metadata": {
  "kernelspec": {
   "display_name": "Python 3",
   "language": "python",
   "name": "python3"
  },
  "language_info": {
   "codemirror_mode": {
    "name": "ipython",
    "version": 3
   },
   "file_extension": ".py",
   "mimetype": "text/x-python",
   "name": "python",
   "nbconvert_exporter": "python",
   "pygments_lexer": "ipython3",
   "version": "3.7.3"
  }
 },
 "nbformat": 4,
 "nbformat_minor": 2
}
